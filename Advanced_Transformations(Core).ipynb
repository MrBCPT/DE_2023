{
 "cells": [
  {
   "cell_type": "markdown",
   "metadata": {
    "id": "Iga-PP4ifxi1"
   },
   "source": [
    "Student: Satish Byrow"
   ]
  },
  {
   "cell_type": "markdown",
   "metadata": {
    "id": "pSdbHwd3B81b"
   },
   "source": [
    "#**1. Goal**\n",
    "- Clean the files and combine them into one final DataFrame.\n",
    "- Use your combined DataFrame to answer the following questions.\r\n",
    "    \r\n",
    "Compare the average weight of super powers who have Super Speed to those who do not    .\r\n",
    "What is the average height of heroes for each publisher?"
   ]
  },
  {
   "cell_type": "markdown",
   "metadata": {
    "id": "z5hsILsYhzmb"
   },
   "source": [
    "#**2. Import and Loading**"
   ]
  },
  {
   "cell_type": "markdown",
   "metadata": {
    "id": "LEj398LfiIpZ"
   },
   "source": [
    "## Load Libraries & Functions"
   ]
  },
  {
   "cell_type": "code",
   "execution_count": 11,
   "metadata": {
    "id": "U6l1SPpQfsXb"
   },
   "outputs": [],
   "source": [
    "#Load Libraries\n",
    "import pandas as pd\n",
    "import numpy as np\n",
    "import json\n",
    "import matplotlib.pyplot as plt\n",
    "import seaborn as sns\n",
    "from sklearn.preprocessing import OneHotEncoder "
   ]
  },
  {
   "cell_type": "markdown",
   "metadata": {
    "id": "F0jW7VCHh4My"
   },
   "source": [
    "## Load Data"
   ]
  },
  {
   "cell_type": "code",
   "execution_count": 2,
   "metadata": {},
   "outputs": [
    {
     "name": "stdout",
     "output_type": "stream",
     "text": [
      "<class 'pandas.core.frame.DataFrame'>\n",
      "RangeIndex: 463 entries, 0 to 462\n",
      "Data columns (total 8 columns):\n",
      " #   Column          Non-Null Count  Dtype \n",
      "---  ------          --------------  ----- \n",
      " 0   Hero|Publisher  463 non-null    object\n",
      " 1   Gender          463 non-null    object\n",
      " 2   Race            463 non-null    object\n",
      " 3   Alignment       463 non-null    object\n",
      " 4   Hair color      463 non-null    object\n",
      " 5   Eye color       463 non-null    object\n",
      " 6   Skin color      463 non-null    object\n",
      " 7   Measurements    463 non-null    object\n",
      "dtypes: object(8)\n",
      "memory usage: 29.1+ KB\n"
     ]
    }
   ],
   "source": [
    "# Open saved file and preview again\n",
    "Superhinfo = pd.read_csv(\"Data/superhero_info.csv\", low_memory = False)\n",
    "Superhinfo.info()\n",
    "#Make a copy\n",
    "df = Superhinfo\n"
   ]
  },
  {
   "cell_type": "code",
   "execution_count": 3,
   "metadata": {},
   "outputs": [
    {
     "name": "stdout",
     "output_type": "stream",
     "text": [
      "<class 'pandas.core.frame.DataFrame'>\n",
      "RangeIndex: 667 entries, 0 to 666\n",
      "Data columns (total 2 columns):\n",
      " #   Column      Non-Null Count  Dtype \n",
      "---  ------      --------------  ----- \n",
      " 0   hero_names  667 non-null    object\n",
      " 1   Powers      667 non-null    object\n",
      "dtypes: object(2)\n",
      "memory usage: 10.5+ KB\n"
     ]
    }
   ],
   "source": [
    "# Open saved file and preview again\n",
    "Superhpowers = pd.read_csv(\"Data/superhero_powers.csv\", low_memory = False)\n",
    "Superhpowers.info()\n",
    "#Make a copy\n",
    "df1 = Superhpowers"
   ]
  },
  {
   "cell_type": "markdown",
   "metadata": {},
   "source": [
    "## Clean the Data"
   ]
  },
  {
   "cell_type": "code",
   "execution_count": 4,
   "metadata": {},
   "outputs": [
    {
     "name": "stdout",
     "output_type": "stream",
     "text": [
      "There are 0 duplicate rows.\n"
     ]
    }
   ],
   "source": [
    "#Duplicate count\n",
    "## Display the number of duplicate rows in the dataset\n",
    "print(f'There are {df.duplicated().sum()} duplicate rows.')"
   ]
  },
  {
   "cell_type": "code",
   "execution_count": 5,
   "metadata": {},
   "outputs": [
    {
     "name": "stdout",
     "output_type": "stream",
     "text": [
      "There are 0 duplicate rows.\n"
     ]
    }
   ],
   "source": [
    "#Duplicate count\n",
    "## Display the number of duplicate rows in the dataset\n",
    "print(f'There are {df1.duplicated().sum()} duplicate rows.')"
   ]
  },
  {
   "cell_type": "code",
   "execution_count": 6,
   "metadata": {},
   "outputs": [
    {
     "name": "stdout",
     "output_type": "stream",
     "text": [
      "There are 0 missing values.\n"
     ]
    }
   ],
   "source": [
    "# Display the total number of missing values\n",
    "print(f'There are {df.isna().sum().sum()} missing values.')"
   ]
  },
  {
   "cell_type": "code",
   "execution_count": 7,
   "metadata": {},
   "outputs": [
    {
     "name": "stdout",
     "output_type": "stream",
     "text": [
      "There are 0 missing values.\n"
     ]
    }
   ],
   "source": [
    "# Display the total number of missing values\n",
    "print(f'There are {df1.isna().sum().sum()} missing values.')"
   ]
  },
  {
   "cell_type": "code",
   "execution_count": 8,
   "metadata": {},
   "outputs": [
    {
     "name": "stdout",
     "output_type": "stream",
     "text": [
      "Spider-Man|Marvel Comics       3\n",
      "Black Canary|DC Comics         2\n",
      "Nova|Marvel Comics             2\n",
      "Toxin|Marvel Comics            2\n",
      "Batman|DC Comics               2\n",
      "                              ..\n",
      "Fabian Cortez|Marvel Comics    1\n",
      "Exodus|Marvel Comics           1\n",
      "Evilhawk|Marvel Comics         1\n",
      "Evil Deadpool|Marvel Comics    1\n",
      "Zoom|DC Comics                 1\n",
      "Name: Hero|Publisher, Length: 457, dtype: int64\n",
      "Male       321\n",
      "Female     134\n",
      "Unknown      8\n",
      "Name: Gender, dtype: int64\n",
      "Human                156\n",
      "Unknown              145\n",
      "Mutant                51\n",
      "Human / Radiation     11\n",
      "Android                7\n",
      "Symbiote               7\n",
      "Alien                  6\n",
      "Demon                  6\n",
      "Cyborg                 6\n",
      "Kryptonian             5\n",
      "Atlantean              5\n",
      "Asgardian              5\n",
      "Inhuman                4\n",
      "New God                3\n",
      "Human-Kree             2\n",
      "Eternal                2\n",
      "Demi-God               2\n",
      "Saiyan                 2\n",
      "Amazon                 2\n",
      "Human / Altered        2\n",
      "Metahuman              2\n",
      "God / Eternal          2\n",
      "Human-Vulcan           1\n",
      "Martian                1\n",
      "Zombie                 1\n",
      "Korugaran              1\n",
      "Talokite               1\n",
      "Clone                  1\n",
      "Human-Spartoi          1\n",
      "Animal                 1\n",
      "Yautja                 1\n",
      "Human / Cosmic         1\n",
      "Tamaranean             1\n",
      "Mutant / Clone         1\n",
      "Luphomoid              1\n",
      "Frost Giant            1\n",
      "Strontian              1\n",
      "Czarnian               1\n",
      "Bolovaxian             1\n",
      "Human-Vuldarian        1\n",
      "Flora Colossus         1\n",
      "Gorilla                1\n",
      "Icthyo Sapien          1\n",
      "Zen-Whoberian          1\n",
      "Cosmic Entity          1\n",
      "Kakarantharaian        1\n",
      "Vampire                1\n",
      "Bizarro                1\n",
      "Neyaphem               1\n",
      "Xenomorph XX121        1\n",
      "Ungaran                1\n",
      "Yoda's species         1\n",
      "Name: Race, dtype: int64\n",
      "good       311\n",
      "bad        132\n",
      "neutral     17\n",
      "Unknown      3\n",
      "Name: Alignment, dtype: int64\n",
      "Black               127\n",
      "Blond                74\n",
      "Brown                69\n",
      "No Hair              52\n",
      "Red                  41\n",
      "White                22\n",
      "Unknown              18\n",
      "Auburn               13\n",
      "Green                 6\n",
      "Strawberry Blond      5\n",
      "Purple                4\n",
      "Brown / White         4\n",
      "Grey                  4\n",
      "black                 3\n",
      "blond                 3\n",
      "Silver                3\n",
      "Blue                  2\n",
      "Orange                2\n",
      "Pink                  1\n",
      "Gold                  1\n",
      "Red / White           1\n",
      "Indigo                1\n",
      "Red / Orange          1\n",
      "Red / Grey            1\n",
      "Brownn                1\n",
      "Yellow                1\n",
      "Orange / White        1\n",
      "Magenta               1\n",
      "Black / Blue          1\n",
      "Name: Hair color, dtype: int64\n",
      "blue                       182\n",
      "brown                      102\n",
      "green                       61\n",
      "red                         38\n",
      "Unknown                     17\n",
      "yellow                      13\n",
      "black                       12\n",
      "white                       10\n",
      "grey                         5\n",
      "hazel                        5\n",
      "gold                         3\n",
      "purple                       3\n",
      "yellow (without irises)      2\n",
      "amber                        2\n",
      "violet                       2\n",
      "white / red                  1\n",
      "indigo                       1\n",
      "silver                       1\n",
      "green / blue                 1\n",
      "blue / white                 1\n",
      "yellow / blue                1\n",
      "Name: Eye color, dtype: int64\n",
      "Unknown       409\n",
      "green          15\n",
      "blue            7\n",
      "red             7\n",
      "white           5\n",
      "grey            4\n",
      "silver          4\n",
      "purple          3\n",
      "gold            2\n",
      "pink            2\n",
      "yellow          2\n",
      "black           1\n",
      "blue-white      1\n",
      "orange          1\n",
      "Name: Skin color, dtype: int64\n",
      "{'Height': '183.0 cm', 'Weight': '90.0 kg'}     6\n",
      "{'Height': '183.0 cm', 'Weight': '86.0 kg'}     6\n",
      "{'Height': '178.0 cm', 'Weight': '79.0 kg'}     6\n",
      "{'Height': '188.0 cm', 'Weight': '95.0 kg'}     6\n",
      "{'Height': '180.0 cm', 'Weight': '81.0 kg'}     6\n",
      "                                               ..\n",
      "{'Height': '701.0 cm', 'Weight': '4.0 kg'}      1\n",
      "{'Height': '185.0 cm', 'Weight': '89.0 kg'}     1\n",
      "{'Height': '259.0 cm', 'Weight': '158.0 kg'}    1\n",
      "{'Height': '191.0 cm', 'Weight': '65.0 kg'}     1\n",
      "{'Height': '66.0 cm', 'Weight': '17.0 kg'}      1\n",
      "Name: Measurements, Length: 287, dtype: int64\n"
     ]
    }
   ],
   "source": [
    "#Check for categorical descrepencies\n",
    "for col in df.select_dtypes(include='object').columns:\n",
    "  print(df[col].value_counts())"
   ]
  },
  {
   "cell_type": "code",
   "execution_count": 9,
   "metadata": {},
   "outputs": [],
   "source": [
    "#Replace values\n",
    "df[\"Hair color\"].replace(\"black\",\"Black\", inplace=True)\n",
    "df[\"Hair color\"].replace(\"blond\",\"Blond\", inplace=True)\n",
    "df[\"Hair color\"].replace(\"Brownn\",\"Brown\", inplace=True)"
   ]
  },
  {
   "cell_type": "code",
   "execution_count": 12,
   "metadata": {},
   "outputs": [
    {
     "data": {
      "text/plain": [
       "'{\"Height\": \"203.0 cm\", \"Weight\": \"441.0 kg\"}'"
      ]
     },
     "execution_count": 12,
     "metadata": {},
     "output_type": "execute_result"
    }
   ],
   "source": [
    "#Split measurements\n",
    "measure = df.loc[0,\"Measurements\"]\n",
    "#replace single quotes with double\n",
    "measure = measure.replace(\"'\",'\"')\n",
    "json.loads(measure)\n",
    "measure"
   ]
  },
  {
   "cell_type": "code",
   "execution_count": null,
   "metadata": {},
   "outputs": [],
   "source": [
    "#Cleanup column names\n"
   ]
  },
  {
   "cell_type": "code",
   "execution_count": null,
   "metadata": {},
   "outputs": [],
   "source": [
    "#drop measurements\n",
    "df = df.drop(columns=['Measurements'])\n",
    "df.head(2)"
   ]
  },
  {
   "cell_type": "code",
   "execution_count": null,
   "metadata": {},
   "outputs": [],
   "source": [
    "#Check for categorical descrepencies\n",
    "for col in df1.select_dtypes(include='object').columns:\n",
    "  print(df1[col].value_counts())"
   ]
  },
  {
   "cell_type": "code",
   "execution_count": null,
   "metadata": {},
   "outputs": [],
   "source": [
    "#onehot encode super powers\n",
    "X = df1['Powers'].values\n",
    "enc = OneHotEncoder().fit(X)\n",
    "\n",
    "X = enc.transform(X)\n",
    "print(X)\n"
   ]
  },
  {
   "cell_type": "markdown",
   "metadata": {},
   "source": [
    "## Combine Data"
   ]
  },
  {
   "cell_type": "code",
   "execution_count": null,
   "metadata": {},
   "outputs": [],
   "source": [
    "#Combine the data sets\n",
    "df_main = pd.concat([df, df1], axis = 1)\n",
    "df_main.head()"
   ]
  },
  {
   "cell_type": "markdown",
   "metadata": {},
   "source": [
    "## Visualise Data"
   ]
  },
  {
   "cell_type": "code",
   "execution_count": null,
   "metadata": {},
   "outputs": [],
   "source": [
    "#Count of movies per certification category\n",
    "explore_categorical(df,\"certification\");"
   ]
  },
  {
   "cell_type": "code",
   "execution_count": null,
   "metadata": {},
   "outputs": [],
   "source": [
    "# Use groupby to calculate the average revenue for each classification\n",
    "df_movie_revenue = df.groupby('certification')['revenue'].mean()\n",
    "\n",
    "# Plot the average of each as a bar\n",
    "fig, ax = plt.subplots()\n",
    "ax.bar(df_movie_revenue.index, df_movie_revenue.values);\n",
    "for p in ax.patches:\n",
    "   ax.annotate('{:.0f}'.format(p.get_height()), (p.get_x(), p.get_height()+0.01))\n",
    "ax.set_ylabel('Revenue')\n",
    "ax.set_xlabel(\"Classification\");\n",
    "ax.set_title(\"Average Revenue per certification\", fontweight='bold')\n",
    "# Fix layout and show plot (before print statements)\n",
    "fig.tight_layout()"
   ]
  },
  {
   "cell_type": "code",
   "execution_count": null,
   "metadata": {},
   "outputs": [],
   "source": [
    "# Use groupby to calculate the average budget for each classification\n",
    "df_movie_revenue = df.groupby('certification')['budget'].mean()\n",
    "\n",
    "# Plot the average of each as a bar\n",
    "fig, ax = plt.subplots()\n",
    "ax.bar(df_movie_revenue.index, df_movie_revenue.values);\n",
    "for p in ax.patches:\n",
    "   ax.annotate('{:.0f}'.format(p.get_height()), (p.get_x(), p.get_height()+0.01))\n",
    "ax.set_ylabel('Budget')\n",
    "ax.set_xlabel(\"Classification\");\n",
    "ax.set_title(\"Average budget per certification\", fontweight='bold')\n",
    "# Fix layout and show plot (before print statements)\n",
    "fig.tight_layout()"
   ]
  },
  {
   "cell_type": "markdown",
   "metadata": {},
   "source": [
    "## Save Data"
   ]
  },
  {
   "cell_type": "code",
   "execution_count": null,
   "metadata": {},
   "outputs": [],
   "source": [
    "#Write the dataframe to file\n",
    "FOLDER = \"Data/\"\n",
    "df.to_csv(f\"{FOLDER}tmdb_results_combined.csv.gz\", compression=\"gzip\", index=False)"
   ]
  }
 ],
 "metadata": {
  "colab": {
   "provenance": [],
   "toc_visible": true
  },
  "kernelspec": {
   "display_name": "Python (dojo-env)",
   "language": "python",
   "name": "dojo-env"
  },
  "language_info": {
   "codemirror_mode": {
    "name": "ipython",
    "version": 3
   },
   "file_extension": ".py",
   "mimetype": "text/x-python",
   "name": "python",
   "nbconvert_exporter": "python",
   "pygments_lexer": "ipython3",
   "version": "3.10.10"
  },
  "widgets": {
   "application/vnd.jupyter.widget-state+json": {
    "state": {},
    "version_major": 2,
    "version_minor": 0
   }
  }
 },
 "nbformat": 4,
 "nbformat_minor": 4
}
